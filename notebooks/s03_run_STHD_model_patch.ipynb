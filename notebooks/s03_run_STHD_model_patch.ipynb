{
 "cells": [
  {
   "cell_type": "markdown",
   "id": "0e7195da-47e1-4a19-a8fa-f8d24548ce44",
   "metadata": {},
   "source": [
    "# A test run of STHD on a sample patch, and visualize per spot predicted cell type STHD_pred_ct and cell type probabilities"
   ]
  },
  {
   "cell_type": "code",
   "execution_count": 1,
   "id": "03cce856-c2a4-4f1f-a2e4-20e111e7172e",
   "metadata": {},
   "outputs": [
    {
     "name": "stderr",
     "output_type": "stream",
     "text": [
      "/hpc/group/yizhanglab/yiz/venv/stvit-cpu/lib64/python3.9/site-packages/networkx/utils/backends.py:135: RuntimeWarning: networkx backend defined more than once: nx-loopback\n",
      "  backends.update(_get_backends(\"networkx.backends\"))\n"
     ]
    }
   ],
   "source": [
    "import numpy as np\n",
    "import pandas as pd\n",
    "import matplotlib.pyplot as plt\n",
    "import scipy\n",
    "import numba\n",
    "import squidpy as sq\n",
    "from numba import jit, njit, prange\n",
    "\n",
    "import pandas as pd\n",
    "import matplotlib.pyplot as plt\n",
    "import squidpy as sq\n",
    "import sys\n",
    "sys.path.append('../STHD')\n",
    "import model\n",
    "import refscrna\n",
    "import sthdio\n",
    "import train\n",
    "import qcmask\n",
    "import color_palette\n",
    "import config\n"
   ]
  },
  {
   "cell_type": "markdown",
   "id": "b136b2e0-50cc-4a76-bf26-b1b8b44ba81f",
   "metadata": {},
   "source": [
    "## Take a patch cropped in s02"
   ]
  },
  {
   "cell_type": "code",
   "execution_count": 2,
   "id": "9a960fc1-b094-43c7-a36f-df613435ed55",
   "metadata": {},
   "outputs": [],
   "source": [
    "patch_path = '../analysis/20240527_update_sthd/crop10_large/'\n",
    "refile = '/hpc/home/yz922/yizhanglab/yz922/proj/STHD/STHD_data/colon_cancer_celltype_average_expr_genenorm_rctd_style_0525_0.000125_log2.0.5_4618gs.txt'\n",
    "# preset parameters\n",
    "n_iter =  20\n",
    "step_size = 1\n",
    "beta = 0.1"
   ]
  },
  {
   "cell_type": "markdown",
   "id": "9b128ee3-5d86-4e04-a1e7-16ee8ca0dc62",
   "metadata": {},
   "source": [
    "## Train STHD on this patch - take a minute. Models are saved in the same patch path.\n",
    "### (Optional: qc mask to filter low counts; or provide a separate mask)"
   ]
  },
  {
   "cell_type": "code",
   "execution_count": null,
   "id": "19841401-cc72-4ed3-965a-ebf432a604b6",
   "metadata": {},
   "outputs": [],
   "source": [
    "sthdata = train.load_data(patch_path)\n",
    "print(sthdata.adata.shape)\n",
    "sthdata.adata = qcmask.background_detector(sthdata.adata, threshold = 50, n_neighs =4, n_rings = 2)\n",
    "print(sthdata.adata.shape)\n",
    "qcmask.visualize_background(sthdata)"
   ]
  },
  {
   "cell_type": "code",
   "execution_count": 4,
   "id": "d5c8cfab-fb01-4274-9d62-9119502c5276",
   "metadata": {},
   "outputs": [
    {
     "name": "stderr",
     "output_type": "stream",
     "text": [
      "/hpc/group/yizhanglab/yiz/venv/stvit-cpu/lib64/python3.9/site-packages/anndata/_core/anndata.py:1908: UserWarning: Variable names are not unique. To make them unique, call `.var_names_make_unique`.\n",
      "  utils.warn_names_duplicates(\"var\")\n"
     ]
    },
    {
     "name": "stdout",
     "output_type": "stream",
     "text": [
      "[log] Number of spots:  278766\n",
      "(278766, 18085)\n",
      "(278766, 18085)\n",
      "[Log] filtering background: 278766 spots to 264081 spots\n",
      "(278766, 18085)\n"
     ]
    },
    {
     "name": "stderr",
     "output_type": "stream",
     "text": [
      "/hpc/group/yizhanglab/yiz/venv/stvit-cpu/lib64/python3.9/site-packages/anndata/_core/anndata.py:1908: UserWarning: Variable names are not unique. To make them unique, call `.var_names_make_unique`.\n",
      "  utils.warn_names_duplicates(\"var\")\n"
     ]
    },
    {
     "name": "stdout",
     "output_type": "stream",
     "text": [
      "[Log] num of gene overlap 4212\n",
      "[Log] attaching ref gene expr in .lambda_cell_type_by_gene_matrix\n",
      "cut 18085 genes to match to reference 4212 genes\n",
      "[Log] prepare_constants and training weights\n",
      "Currently we only support symmetric adjacency matrix of neighbors\n",
      "[Log] Training...\n",
      "0 113.31753124601151 -107.86132299746838 54.56208248543135\n",
      "1 107.78209306604275 -102.26194464794528 55.20148418097461\n",
      "2 103.53147691833999 -98.17562495208468 53.558519662553095\n",
      "3 100.49468093684494 -95.43582428131702 50.5885665552792\n",
      "4 98.1208400091895 -93.38897341737444 47.31866591815054\n",
      "5 96.10403071335567 -91.68265448383504 44.21376229520638\n",
      "6 94.68874529286512 -90.5553296418223 41.33415651042825\n",
      "7 93.70038860627604 -89.84121251112633 38.59176095149702\n",
      "8 92.90269760507904 -89.3174434771086 35.85254127970449\n",
      "9 92.19812319370219 -88.8938337612761 33.04289432426083\n",
      "10 91.55874714839285 -88.54100652393419 30.177406244586656\n",
      "11 91.00813211369764 -88.27264867005488 27.35483443642768\n",
      "12 90.57670359871778 -88.10713633315434 24.695672655634464\n",
      "13 90.2600938492573 -88.0362809689023 22.238128803549987\n",
      "14 90.02828656819185 -88.0329100349966 19.953765331952408\n",
      "15 89.85257474090453 -88.06951375930667 17.83060981597859\n",
      "16 89.71589695856552 -88.12527207431434 15.906248842511895\n",
      "17 89.6099587692033 -88.18531364898816 14.24645120215145\n",
      "18 89.52967177135163 -88.23973215271351 12.899396186381175\n",
      "19 89.470141067641 -88.28345143305054 11.866896345904545\n"
     ]
    },
    {
     "name": "stderr",
     "output_type": "stream",
     "text": [
      "/hpc/group/yizhanglab/yiz/venv/stvit-cpu/lib64/python3.9/site-packages/anndata/_core/anndata.py:1908: UserWarning: Variable names are not unique. To make them unique, call `.var_names_make_unique`.\n",
      "  utils.warn_names_duplicates(\"var\")\n",
      "/hpc/group/yizhanglab/yiz/projects/sthd_study/STHD/STHD_nb_update/../STHD/train.py:70: PerformanceWarning: DataFrame is highly fragmented.  This is usually the result of calling `frame.insert` many times, which has poor performance.  Consider joining all columns at once using pd.concat(axis=1) instead. To get a de-fragmented frame, use `newframe = frame.copy()`\n",
      "  adata.obs['p_ct_'+ct] = p[:,i]\n",
      "/hpc/group/yizhanglab/yiz/projects/sthd_study/STHD/STHD_nb_update/../STHD/train.py:71: PerformanceWarning: DataFrame is highly fragmented.  This is usually the result of calling `frame.insert` many times, which has poor performance.  Consider joining all columns at once using pd.concat(axis=1) instead. To get a de-fragmented frame, use `newframe = frame.copy()`\n",
      "  adata.obs['x'] = adata.obsm['spatial'][:,0]\n",
      "/hpc/group/yizhanglab/yiz/projects/sthd_study/STHD/STHD_nb_update/../STHD/train.py:72: PerformanceWarning: DataFrame is highly fragmented.  This is usually the result of calling `frame.insert` many times, which has poor performance.  Consider joining all columns at once using pd.concat(axis=1) instead. To get a de-fragmented frame, use `newframe = frame.copy()`\n",
      "  adata.obs['y'] = adata.obsm['spatial'][:,1]\n",
      "/hpc/group/yizhanglab/yiz/projects/sthd_study/STHD/STHD_nb_update/../STHD/train.py:89: PerformanceWarning: DataFrame is highly fragmented.  This is usually the result of calling `frame.insert` many times, which has poor performance.  Consider joining all columns at once using pd.concat(axis=1) instead. To get a de-fragmented frame, use `newframe = frame.copy()`\n",
      "  adata.obs['STHD_pred_ct']=STHD_pred_ct['ct']\n"
     ]
    },
    {
     "name": "stdout",
     "output_type": "stream",
     "text": [
      "[Log]Predicted cell type in STHD_pred_ct in adata.obs\n",
      "[Log]Predicted cell type probabilities in columns starting with p_ct_ in adata.obs\n",
      "[Log] prediction saved to ../analysis/20240527_update_sthd/crop10_large/_pdata.tsv\n"
     ]
    }
   ],
   "source": [
    "sthdata = train.load_data(patch_path)\n",
    "print(sthdata.adata.shape)\n",
    "sthdata.adata = qcmask.background_detector(sthdata.adata, threshold = 50, n_neighs =4, n_rings = 2)\n",
    "print(sthdata.adata.shape)\n",
    "#qcmask.visualize_background(sthdata)\n",
    "sthdata_filtered = qcmask.filter_background(sthdata, threshold = 50 )\n",
    "print(sthdata.adata.shape)\n",
    "sthdata_filtered, genemeanpd_filtered = train.sthdata_match_refgene(sthdata_filtered, refile)\n",
    "P_filtered = train.train(sthdata_filtered, n_iter, step_size, beta)\n",
    "P = train.fill_p_filtered_to_p_full(P_filtered, sthdata_filtered, genemeanpd_filtered, sthdata )\n",
    "sthdata = train.predict(sthdata, P, genemeanpd_filtered, mapcut= 0.8)\n",
    "pdata = train.save_prediction_pdata(sthdata, file_path = patch_path)"
   ]
  },
  {
   "cell_type": "code",
   "execution_count": 5,
   "id": "eb8947d8-9ed2-4ad6-bdc0-daf1684e9908",
   "metadata": {},
   "outputs": [
    {
     "data": {
      "text/plain": [
       "\"\\n### Or, train simply without masking any region.\\n\\nsthdata = load_data(patch_path)\\nsthdata, genemeanpd_filtered = sthdata_match_refgene(sthdata, refile, matchrefgene=True, ref_renorm = False)\\nP = train.train(sthdata, n_iter, step_size, beta)\\nsthdata = train.predict(sthdata, P, genemeanpd_filtered, mapcut= 0.8) \\npdata = train.save_prediction_pdata(sthdata, file_path = patch_path, prefix = '')\\n\""
      ]
     },
     "execution_count": 5,
     "metadata": {},
     "output_type": "execute_result"
    }
   ],
   "source": [
    "'''\n",
    "### Or, train simply without masking any region.\n",
    "\n",
    "sthdata = load_data(patch_path)\n",
    "sthdata, genemeanpd_filtered = sthdata_match_refgene(sthdata, refile, matchrefgene=True, ref_renorm = False)\n",
    "P = train.train(sthdata, n_iter, step_size, beta)\n",
    "sthdata = train.predict(sthdata, P, genemeanpd_filtered, mapcut= 0.8) \n",
    "pdata = train.save_prediction_pdata(sthdata, file_path = patch_path, prefix = '')\n",
    "'''"
   ]
  },
  {
   "cell_type": "code",
   "execution_count": null,
   "id": "ddf6a3cf-266c-4dce-97b6-fe387e2dc134",
   "metadata": {},
   "outputs": [],
   "source": [
    "cmap = color_palette.get_config_colormap( name = 'colormap_coloncatlas_98')\n",
    "data_palette = color_palette.prepare_palette(cmap, sthdata.adata)\n",
    "\n",
    "sq.pl.spatial_scatter(sthdata.adata, \n",
    "                      color='STHD_pred_ct', \n",
    "                      crop_coord = [sthdata.get_sequencing_data_region()],\n",
    "                      legend_fontsize=8,\n",
    "                      palette = data_palette,\n",
    "                      figsize=(12,12)\n",
    "                    \n",
    "                     )\n",
    "#plt.savefig('../analysis/figure/fig1c_crop10_pred_ct.pdf',dpi=300)"
   ]
  },
  {
   "cell_type": "markdown",
   "id": "d26ee8df-8215-444e-8bcb-24d188aee8d8",
   "metadata": {},
   "source": [
    "### or, load model results"
   ]
  },
  {
   "cell_type": "code",
   "execution_count": 7,
   "id": "1f10a52f-7a17-48a0-8690-51c8ed5ca14b",
   "metadata": {},
   "outputs": [
    {
     "name": "stderr",
     "output_type": "stream",
     "text": [
      "/hpc/group/yizhanglab/yiz/venv/stvit-cpu/lib64/python3.9/site-packages/anndata/_core/anndata.py:1908: UserWarning: Variable names are not unique. To make them unique, call `.var_names_make_unique`.\n",
      "  utils.warn_names_duplicates(\"var\")\n"
     ]
    },
    {
     "name": "stdout",
     "output_type": "stream",
     "text": [
      "[log] Number of spots:  278766\n",
      "[Log] Loading prediction into sthdata.adata.obs, overwriting\n",
      "Index([], dtype='object')\n"
     ]
    }
   ],
   "source": [
    "sthdata = train.load_data_with_pdata(file_path = patch_path)"
   ]
  },
  {
   "cell_type": "markdown",
   "id": "cbb9bd1c-7b80-4261-814c-76c0fd8a4018",
   "metadata": {},
   "source": [
    "### some simple plotting to visualize results "
   ]
  },
  {
   "cell_type": "code",
   "execution_count": 8,
   "id": "0e3a8ef0-2d6d-436a-a199-a7e12478cbf4",
   "metadata": {},
   "outputs": [],
   "source": [
    "# -----------------------Quick Visualization----------------------------\n",
    "def analysis(sthd_data, color_list1, color_list2):\n",
    "    adata = sthd_data.adata.copy()\n",
    "    crop_coor = sthdata.get_sequencing_data_region()\n",
    "    \n",
    "    f, ax = plt.subplots(2, 3, figsize=(40, 20)) # row, col\n",
    "    \n",
    "    cur_row = 0\n",
    "    for i, c in enumerate(color_list1):\n",
    "        sq.pl.spatial_scatter(adata, color=c, crop_coord = [crop_coor], ax=ax[cur_row, i], vmin=0) #[]todo. we put p=-1 for the filtered spots\n",
    "        \n",
    "    cur_row = 1\n",
    "    for i, c in enumerate(color_list2):\n",
    "        sq.pl.spatial_scatter(adata, color=c, crop_coord = [crop_coor], ax=ax[cur_row, i], vmin=0)\n",
    "    return(adata)"
   ]
  },
  {
   "cell_type": "code",
   "execution_count": null,
   "id": "277b4c70-fc11-4209-8217-6ec1f70c552d",
   "metadata": {},
   "outputs": [],
   "source": [
    "## coloring a few cell types's probablity\n",
    "color_list1 = ['p_ct_Tumor cE03 (Stem/TA-like prolif)','p_ct_Tumor cE05 (Enterocyte 2)', 'p_ct_Tumor cE01 (Stem/TA-like)']\n",
    "color_list2 = ['p_ct_cP2 (Plasma IgG)', 'p_ct_cM02 (Macrophage-like)', 'STHD_pred_ct', ]\n",
    "adata = analysis(sthdata, color_list1, color_list2)\n"
   ]
  },
  {
   "cell_type": "code",
   "execution_count": null,
   "id": "de490385-2094-4149-abdc-454fce3caec7",
   "metadata": {},
   "outputs": [],
   "source": [
    "crop_coor = sthdata.get_sequencing_data_region()"
   ]
  },
  {
   "cell_type": "code",
   "execution_count": null,
   "id": "caadff60-51c3-44da-86c2-aea575935dfb",
   "metadata": {},
   "outputs": [],
   "source": [
    "#fig, ax = plt.subplots( figsize=(6,6))\n",
    "sq.pl.spatial_scatter(adata, color=color_list1[0], crop_coord = [crop_coor],  vmin=0)\n",
    "plt.savefig('../analysis/figure/crop10_prob_cE03.pdf',dpi=300)"
   ]
  },
  {
   "cell_type": "code",
   "execution_count": null,
   "id": "7c6d101a-3f54-4a26-bbec-6eb37e691d68",
   "metadata": {},
   "outputs": [],
   "source": [
    "#fig, ax = plt.subplots( figsize=(6,6))\n",
    "sq.pl.spatial_scatter(adata, color=color_list1[1], crop_coord = [crop_coor],  vmin=0)\n",
    "plt.savefig('../analysis/figure/crop10_prob_cE05.pdf',dpi=300)"
   ]
  },
  {
   "cell_type": "code",
   "execution_count": null,
   "id": "551fd031-a5a7-4a26-b15f-e92bfc345573",
   "metadata": {},
   "outputs": [],
   "source": [
    "#fig, ax = plt.subplots( figsize=(6,6))\n",
    "sq.pl.spatial_scatter(adata, color=color_list1[2], crop_coord = [crop_coor],  vmin=0)\n",
    "plt.savefig('../analysis/figure/crop10_prob_cE01.pdf',dpi=300)"
   ]
  },
  {
   "cell_type": "code",
   "execution_count": null,
   "id": "ebbd01c7-4db8-40f1-b2f9-91d81d821801",
   "metadata": {},
   "outputs": [],
   "source": [
    "#fig, ax = plt.subplots( figsize=(6,6))\n",
    "sq.pl.spatial_scatter(adata, color=color_list2[0], crop_coord = [crop_coor],  vmin=0)\n",
    "plt.savefig('../analysis/figure/crop10_prob_plasma.pdf',dpi=300)"
   ]
  },
  {
   "cell_type": "code",
   "execution_count": null,
   "id": "ca7e25a3-487a-4e81-a6e9-8c8395aa7005",
   "metadata": {},
   "outputs": [],
   "source": [
    "#fig, ax = plt.subplots( figsize=(6,6))\n",
    "sq.pl.spatial_scatter(adata, color=color_list2[1], crop_coord = [crop_coor],  vmin=0)\n",
    "plt.savefig('../analysis/figure/crop10_prob_macro.pdf',dpi=300)"
   ]
  }
 ],
 "metadata": {
  "kernelspec": {
   "display_name": "stvit-cpu",
   "language": "python",
   "name": "stvit-cpu"
  },
  "language_info": {
   "codemirror_mode": {
    "name": "ipython",
    "version": 3
   },
   "file_extension": ".py",
   "mimetype": "text/x-python",
   "name": "python",
   "nbconvert_exporter": "python",
   "pygments_lexer": "ipython3",
   "version": "3.9.18"
  }
 },
 "nbformat": 4,
 "nbformat_minor": 5
}
