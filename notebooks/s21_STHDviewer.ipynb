{
 "cells": [
  {
   "cell_type": "code",
   "execution_count": 1,
   "id": "7f718a3b-a62d-4ec4-ba71-839a4d19b8aa",
   "metadata": {},
   "outputs": [
    {
     "name": "stderr",
     "output_type": "stream",
     "text": [
      "/hpc/group/yizhanglab/yiz/venv/stvit-cpu/lib64/python3.9/site-packages/networkx/utils/backends.py:135: RuntimeWarning: networkx backend defined more than once: nx-loopback\n",
      "  backends.update(_get_backends(\"networkx.backends\"))\n"
     ]
    }
   ],
   "source": [
    "import sys\n",
    "sys.path.append('../')\n",
    "\n",
    "from STHD import train\n",
    "from STHD import color_palette\n",
    "from STHD import sthdviz"
   ]
  },
  {
   "cell_type": "markdown",
   "id": "fdaa0012-a5f3-47dc-9674-51e2d5a00677",
   "metadata": {},
   "source": [
    "# raster plot\n",
    "This function is optimized for ploting millions of spots. Traditional scatter plots would get stuck for this scale of points."
   ]
  },
  {
   "cell_type": "code",
   "execution_count": 2,
   "id": "0878cd43-fc24-4309-bc26-4ba394abfba1",
   "metadata": {},
   "outputs": [
    {
     "name": "stderr",
     "output_type": "stream",
     "text": [
      "/hpc/group/yizhanglab/yiz/venv/stvit-cpu/lib64/python3.9/site-packages/anndata/_core/anndata.py:1908: UserWarning: Variable names are not unique. To make them unique, call `.var_names_make_unique`.\n",
      "  utils.warn_names_duplicates(\"var\")\n"
     ]
    },
    {
     "name": "stdout",
     "output_type": "stream",
     "text": [
      "[log] Number of spots:  276968\n",
      "[Log] Loading prediction into sthdata.adata.obs, overwriting\n",
      "Index([], dtype='object')\n",
      "1586.0 2001.0 416\n",
      "1672.0 2356.0 685\n"
     ]
    },
    {
     "name": "stderr",
     "output_type": "stream",
     "text": [
      "100%|██████████| 276968/276968 [00:00<00:00, 1460866.05it/s]\n",
      "convert cell types to numerical representations: 100%|██████████| 416/416 [00:00<00:00, 2190.97it/s]\n"
     ]
    }
   ],
   "source": [
    "patch_path = '../testdata/crop10large/all_region/'\n",
    "\n",
    "sthdata = train.load_data_with_pdata(patch_path)\n",
    "df = sthdata.adata.obs[['array_row', 'array_col', 'STHD_pred_ct']]\n",
    "df_rasterize = sthdviz.rasterize(df, 'STHD_pred_ct')\n",
    "sthdviz.fast_plot(\n",
    "    df_rasterize, \n",
    "    title = 'STHDviewer',\n",
    "    save_root_dir = patch_path\n",
    ")"
   ]
  }
 ],
 "metadata": {
  "kernelspec": {
   "display_name": "stvit-cpu",
   "language": "python",
   "name": "stvit-cpu"
  },
  "language_info": {
   "codemirror_mode": {
    "name": "ipython",
    "version": 3
   },
   "file_extension": ".py",
   "mimetype": "text/x-python",
   "name": "python",
   "nbconvert_exporter": "python",
   "pygments_lexer": "ipython3",
   "version": "3.9.18"
  }
 },
 "nbformat": 4,
 "nbformat_minor": 5
}
