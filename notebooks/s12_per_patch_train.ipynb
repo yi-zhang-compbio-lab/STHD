{
 "cells": [
  {
   "cell_type": "markdown",
   "id": "6571ae24-212f-4a8b-8e92-58489183b488",
   "metadata": {},
   "source": [
    "# Generate training script"
   ]
  },
  {
   "cell_type": "code",
   "execution_count": 1,
   "id": "f2ccbe6f-0350-4704-9983-b1b434cf1e0c",
   "metadata": {},
   "outputs": [],
   "source": [
    "import os"
   ]
  },
  {
   "cell_type": "code",
   "execution_count": 4,
   "id": "935250c0-1810-4a52-a33b-e7a6c01d946a",
   "metadata": {},
   "outputs": [],
   "source": [
    "patch_path = '../testdata/crop10large/'\n",
    "refile = '../testdata/crc_average_expr_genenorm_lambda_98ct_4618gs.txt'\n",
    "patch_dir = f'{patch_path}/patches/'\n",
    "files = [patch_dir + f for f in os.listdir(patch_dir)]"
   ]
  },
  {
   "cell_type": "code",
   "execution_count": 7,
   "id": "d0855d9b-242e-4f22-9806-a616c8818f43",
   "metadata": {},
   "outputs": [
    {
     "data": {
      "text/plain": [
       "'python3 train.py --refile ../testdata/crc_average_expr_genenorm_lambda_98ct_4618gs.txt --patch_list ../testdata/crop10large//patches/52979_9480 ../testdata/crop10large//patches/57479_9480 ../testdata/crop10large//patches/52979_7980 ../testdata/crop10large//patches/55979_7980 ../testdata/crop10large//patches/57479_7980 ../testdata/crop10large//patches/54479_9480 ../testdata/crop10large//patches/55979_9480 ../testdata/crop10large//patches/54479_7980'"
      ]
     },
     "execution_count": 7,
     "metadata": {},
     "output_type": "execute_result"
    }
   ],
   "source": [
    "f\"\"\"python3 train.py --refile {refile} --patch_list {\" \".join(files)}\"\"\""
   ]
  },
  {
   "cell_type": "markdown",
   "id": "031ef777-4168-43a6-a57e-583478837610",
   "metadata": {},
   "source": [
    "# Training\n",
    "\n",
    "1. Go to the folder `STHD/STHD`\n",
    "2. Run above command\n",
    "```\n",
    "python3 train.py --refile ../testdata/crc_average_expr_genenorm_lambda_98ct_4618gs.txt --patch_list ../testdata/crop10large//patches/52979_9480 ../testdata/crop10large//patches/57479_9480 ../testdata/crop10large//patches/52979_7980 ../testdata/crop10large//patches/55979_7980 ../testdata/crop10large//patches/57479_7980 ../testdata/crop10large//patches/54479_9480 ../testdata/crop10large//patches/55979_9480 ../testdata/crop10large//patches/54479_7980\n",
    "```"
   ]
  },
  {
   "cell_type": "code",
   "execution_count": null,
   "id": "56a9afd7-6edc-4a9a-af61-e41c65d4d9ae",
   "metadata": {},
   "outputs": [],
   "source": []
  }
 ],
 "metadata": {
  "kernelspec": {
   "display_name": "Python 3 (ipykernel)",
   "language": "python",
   "name": "python3"
  },
  "language_info": {
   "codemirror_mode": {
    "name": "ipython",
    "version": 3
   },
   "file_extension": ".py",
   "mimetype": "text/x-python",
   "name": "python",
   "nbconvert_exporter": "python",
   "pygments_lexer": "ipython3",
   "version": "3.8.8"
  }
 },
 "nbformat": 4,
 "nbformat_minor": 5
}
