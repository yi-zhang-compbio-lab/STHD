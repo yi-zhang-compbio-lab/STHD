{
 "cells": [
  {
   "cell_type": "code",
   "execution_count": 2,
   "id": "f81aca30-7198-4677-8ef2-b701cc5efa24",
   "metadata": {},
   "outputs": [],
   "source": [
    "import os\n",
    "import pandas as pd\n",
    "import numpy as np\n",
    "from collections import Counter, defaultdict\n",
    "from tqdm import tqdm\n",
    "import squidpy as sq\n",
    "import matplotlib.pyplot as plt\n",
    "\n",
    "import sys\n",
    "sys.path.append('../')\n",
    "# will be avialable on pip\n",
    "\n",
    "from STHD import patchify\n",
    "from STHD import color_palette\n",
    "from STHD import train"
   ]
  },
  {
   "cell_type": "markdown",
   "id": "8eb07119-acb3-4052-9cce-f36408ca395a",
   "metadata": {},
   "source": [
    "# load predictions, and merge them into a single dataframe"
   ]
  },
  {
   "cell_type": "code",
   "execution_count": 3,
   "id": "078e1039-5e30-406f-b3bb-db3ccbce214a",
   "metadata": {},
   "outputs": [
    {
     "name": "stderr",
     "output_type": "stream",
     "text": [
      "/hpc/group/yizhanglab/yiz/venv/stvit-cpu/lib64/python3.9/site-packages/anndata/_core/anndata.py:1908: UserWarning: Variable names are not unique. To make them unique, call `.var_names_make_unique`.\n",
      "  utils.warn_names_duplicates(\"var\")\n"
     ]
    },
    {
     "name": "stdout",
     "output_type": "stream",
     "text": [
      "[log] Number of spots:  276968\n",
      "[Log] num of gene overlap 4212\n",
      "[Log] attaching ref gene expr in .lambda_cell_type_by_gene_matrix\n",
      "cut 18085 genes to match to reference 4212 genes\n",
      "[log] Loading patches\n"
     ]
    },
    {
     "name": "stderr",
     "output_type": "stream",
     "text": [
      "100%|██████████| 8/8 [00:06<00:00,  1.24it/s]\n"
     ]
    },
    {
     "name": "stdout",
     "output_type": "stream",
     "text": [
      "[log] Process probabilities in each barcodes\n"
     ]
    },
    {
     "name": "stderr",
     "output_type": "stream",
     "text": [
      "100%|██████████| 279598/279598 [00:03<00:00, 77387.99it/s]\n"
     ]
    },
    {
     "name": "stdout",
     "output_type": "stream",
     "text": [
      "[log] Reshape data into pandas dataframe\n",
      "[Log] Loading prediction into sthdata.adata.obs, overwriting\n",
      "Index([], dtype='object')\n"
     ]
    },
    {
     "name": "stderr",
     "output_type": "stream",
     "text": [
      "/hpc/group/yizhanglab/yz922/proj/STHD/STHD_nb2/../STHD/train.py:100: PerformanceWarning: DataFrame is highly fragmented.  This is usually the result of calling `frame.insert` many times, which has poor performance.  Consider joining all columns at once using pd.concat(axis=1) instead. To get a de-fragmented frame, use `newframe = frame.copy()`\n",
      "  adata.obs[\"STHD_pred_ct\"] = STHD_pred_ct[\"ct\"]\n"
     ]
    },
    {
     "name": "stdout",
     "output_type": "stream",
     "text": [
      "[Log]Predicted cell type in STHD_pred_ct in adata.obs\n",
      "[Log]Predicted cell type probabilities in columns starting with p_ct_ in adata.obs\n",
      "[Log] prediction saved to ../testdata/crop10large//all_region/_pdata.tsv\n"
     ]
    }
   ],
   "source": [
    "path = '../testdata/crop10large/'\n",
    "refile = '../testdata/crc_average_expr_genenorm_lambda_98ct_4618gs.txt'\n",
    "patchify.merge(path, refile)"
   ]
  },
  {
   "cell_type": "markdown",
   "id": "16394a09-5810-4e43-8589-7bea7835f753",
   "metadata": {},
   "source": [
    "# After merging, we can directly load the \"all_region\" as if it was calculated in a single run"
   ]
  },
  {
   "cell_type": "code",
   "execution_count": 4,
   "id": "52ab4db0-0195-414e-ab8f-63ec6b0a0b10",
   "metadata": {},
   "outputs": [
    {
     "name": "stderr",
     "output_type": "stream",
     "text": [
      "/hpc/group/yizhanglab/yiz/venv/stvit-cpu/lib64/python3.9/site-packages/anndata/_core/anndata.py:1908: UserWarning: Variable names are not unique. To make them unique, call `.var_names_make_unique`.\n",
      "  utils.warn_names_duplicates(\"var\")\n"
     ]
    },
    {
     "name": "stdout",
     "output_type": "stream",
     "text": [
      "[log] Number of spots:  276968\n",
      "[Log] Loading prediction into sthdata.adata.obs, overwriting\n",
      "Index([], dtype='object')\n"
     ]
    }
   ],
   "source": [
    "sthdata_with_pdata = train.load_data_with_pdata(path + '/all_region')"
   ]
  },
  {
   "cell_type": "markdown",
   "id": "39d86339-6d0f-4518-b194-44262ccb683d",
   "metadata": {},
   "source": [
    "# Visualize"
   ]
  },
  {
   "cell_type": "code",
   "execution_count": null,
   "id": "88e2c34a-b5e2-4353-946a-e1c40385433f",
   "metadata": {},
   "outputs": [],
   "source": [
    "crop_coor = sthdata_with_pdata.get_sequencing_data_region()\n",
    "\n",
    "cmap = color_palette.get_config_colormap( name = 'colormap_coloncatlas_98')\n",
    "data_palette = color_palette.prepare_palette(cmap, sthdata_with_pdata.adata)\n",
    "\n",
    "f, ax = plt.subplots(2, 1, figsize=(20,20))\n",
    "\n",
    "sq.pl.spatial_scatter(sthdata_with_pdata.adata, \n",
    "                      color='STHD_pred_ct', \n",
    "                      crop_coord = [crop_coor],\n",
    "                      legend_fontsize=8,\n",
    "                      palette = data_palette,\n",
    "                      ax = ax[1]\n",
    "                     )"
   ]
  }
 ],
 "metadata": {
  "kernelspec": {
   "display_name": "stvit-cpu",
   "language": "python",
   "name": "stvit-cpu"
  },
  "language_info": {
   "codemirror_mode": {
    "name": "ipython",
    "version": 3
   },
   "file_extension": ".py",
   "mimetype": "text/x-python",
   "name": "python",
   "nbconvert_exporter": "python",
   "pygments_lexer": "ipython3",
   "version": "3.9.18"
  }
 },
 "nbformat": 4,
 "nbformat_minor": 5
}
